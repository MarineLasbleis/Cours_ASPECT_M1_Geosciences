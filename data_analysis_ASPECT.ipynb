{
 "cells": [
  {
   "cell_type": "code",
   "execution_count": null,
   "metadata": {},
   "outputs": [],
   "source": [
    "%matplotlib inline  \n",
    "## This allows figures to be plotted \"inline\". \n",
    "## In a normal python script, you use plt.show() to see the figures, \n",
    "## or plt.savefig(\"name.pdf\") to save the figures \n",
    "## (you can also use this command in the notebooks)\n",
    "\n",
    "import numpy as np  # for mathematical functions and arrays\n",
    "import matplotlib.pyplot as plt  # for plot\n",
    "import pandas as pd # for data analysis\n",
    "\n",
    "\n",
    "## We use short names for the libraries we use a lot."
   ]
  },
  {
   "cell_type": "markdown",
   "metadata": {},
   "source": [
    "Pour activer une cellule: Shift+Entrée\n",
    "\n",
    "Ne pas oublier d'activer la première cellule $\\uparrow$ pour permettre d'utiliser des fonctions spéciales. \n",
    "\n",
    "Python est un langage \"simple\", facilement lisible pour faire des maths. Il utilise des packages (que l'on importe) pour utiliser des fonctions toutes faites. Pour appeler la fonction: nom_package.nom_fonction()\n",
    "\n",
    "- numpy: numerical python, donne accès à toutes les fonctions usuelles de maths (sin, cos, exp, log, etc.)\n",
    "- matplotlib.pyplot: pour faire des figures. Pour faire un plot, la fonction de base est plt.plot(X, Y)\n",
    "- pandas: pour gérer des gros volumes de données, et ici pour gérer des fichiers textes avec bcp de lignes. \n",
    "\n",
    "Attention! En python, la numerotation commence à 0. Le premier élément d'une liste est le numéro 0: liste[0]\n",
    "\n",
    "Aussi, en python, les indentations sont utilisées pour spécifier des blocs: des boucles, des fonctions, etc. Donc ne pas utiliser d'indentations à tort et à travers! Le code est de fait plus lisible.\n",
    "\n",
    "# ASPECT -- statistics\n",
    "\n",
    "Ce fichier permet de lire et extraire des données du fichier statistics produit par un run d'ASPECT. \n",
    "\n",
    "Le fichier statistics donne, par lignes, des infos sur les statistiques globales du système. Chaque ligne correspond à 1 pas de temps, et la référence des colonnes est indiquées dans le header (les premières lignes) du fichier. On va se servir du header pour donner des noms à nos variables. "
   ]
  },
  {
   "cell_type": "code",
   "execution_count": null,
   "metadata": {},
   "outputs": [],
   "source": [
    "dossier = \"./convection_box/output-convection-box_Ra1e4/\""
   ]
  },
  {
   "cell_type": "code",
   "execution_count": null,
   "metadata": {},
   "outputs": [],
   "source": [
    "fichier = dossier+\"statistics\"  # chemin d'acces vers le fichier statistics.\n",
    "\n",
    "# statistics commence par une liste des variables. \n",
    "names = [\"Time step number\", \"Time (seconds)\",\n",
    "\"Time step size (seconds)\",\n",
    "\"Number of mesh cells\",\n",
    "\"Number of Stokes degrees of freedom\",\n",
    "\"Number of temperature degrees of freedom\",\n",
    "\"Iterations for temperature solver\",\n",
    "\"Iterations for Stokes solver\",\n",
    "\"Velocity iterations in Stokes preconditioner\",\n",
    "\"Schur complement iterations in Stokes preconditioner\",\n",
    "\"RMS velocity (m/s)\",\n",
    "\"Max. velocity (m/s)\",\n",
    "\"Minimal temperature (K)\",\n",
    "\"Average temperature (K)\",\n",
    "\"Maximal temperature (K)\",\n",
    "\"Average nondimensional temperature (K)\",\n",
    "\"Outward heat flux through boundary with indicator 0 (left) (W)\",\n",
    "\"Outward heat flux through boundary with indicator 1 (right) (W)\",\n",
    "\"Outward heat flux through boundary with indicator 2 (bottom) (W)\",\n",
    "\"Outward heat flux through boundary with indicator 3 (top) (W)\",\n",
    "\"Visualization file name\"]"
   ]
  },
  {
   "cell_type": "code",
   "execution_count": null,
   "metadata": {},
   "outputs": [],
   "source": [
    "data = pd.read_csv(fichier, skipinitialspace=True, sep=\" \", comment='#', names=names, index_col=False)"
   ]
  },
  {
   "cell_type": "code",
   "execution_count": null,
   "metadata": {},
   "outputs": [],
   "source": [
    "print(data.head())"
   ]
  },
  {
   "cell_type": "code",
   "execution_count": null,
   "metadata": {},
   "outputs": [],
   "source": [
    "fig, ax =plt.subplots(2, 1, sharex=True)\n",
    "\n",
    "ax[0].plot(data[\"Time (seconds)\"], data[\"Max. velocity (m/s)\"])\n",
    "ax[0].plot(data[\"Time (seconds)\"], data[\"RMS velocity (m/s)\"])\n",
    "ax[1].plot(data[\"Time (seconds)\"], data[\"Outward heat flux through boundary with indicator 3 (top) (W)\"])\n",
    "\n",
    "\n",
    "ax[0].set_ylabel(\"Velocity\")\n",
    "ax[1].set_ylabel(\"Heat flux\")\n",
    "ax[1].set_xlabel(\"Time (seconds)\")\n",
    "\n",
    "print(\"Valeur vitesse moyenne (RMS velocity) à la fin du run: {:.2f}\".format(data.iloc[-1][\"RMS velocity (m/s)\"]))\n",
    "print(\"Valeur flux de chaleur en haut à la fin du run: {:.2f}\".format(data.iloc[-1][\"Outward heat flux through boundary with indicator 3 (top) (W)\"]))"
   ]
  },
  {
   "cell_type": "markdown",
   "metadata": {},
   "source": [
    "## ASPECT -- depth average\n",
    "\n",
    "Le fichier depth_average.txt donne les valeurs moyennées (horizontalement) pour 20 hauteurs dans le système pour chaque pas de temps demandé (ici, autant que de fichiers de visualisation globale)"
   ]
  },
  {
   "cell_type": "code",
   "execution_count": null,
   "metadata": {},
   "outputs": [],
   "source": [
    "fichier_depth = dossier+\"/depth_average.txt\"  # chemin d'acces vers le fichier\n",
    "\n",
    "names_depth = [\"time\", \"depth\", \"temperature\", \"velocity_magnitude\", \"vertical_heat_flux\"]"
   ]
  },
  {
   "cell_type": "code",
   "execution_count": null,
   "metadata": {},
   "outputs": [],
   "source": [
    "data_depth = pd.read_csv(fichier_depth, skipinitialspace=True, sep=\" \", comment='#', names=names_depth, index_col=False)"
   ]
  },
  {
   "cell_type": "code",
   "execution_count": null,
   "metadata": {},
   "outputs": [],
   "source": [
    "print(data_depth.head())"
   ]
  },
  {
   "cell_type": "code",
   "execution_count": null,
   "metadata": {},
   "outputs": [],
   "source": [
    "temps_unique = data_depth[\"time\"].unique() # tous les pas de temps dispo."
   ]
  },
  {
   "cell_type": "markdown",
   "metadata": {},
   "source": [
    "### premier essai de visualisation: sans fioritures"
   ]
  },
  {
   "cell_type": "code",
   "execution_count": null,
   "metadata": {},
   "outputs": [],
   "source": [
    "data_depth.plot(\"temperature\", \"depth\", label=\"\")"
   ]
  },
  {
   "cell_type": "markdown",
   "metadata": {},
   "source": [
    "### En ajoutant quelques fioritures pour rendre ça plus joli"
   ]
  },
  {
   "cell_type": "code",
   "execution_count": null,
   "metadata": {},
   "outputs": [],
   "source": [
    "fig, ax = plt.subplots()\n",
    "cmap = plt.get_cmap('viridis')\n",
    "N = len(temps_unique)\n",
    "\n",
    "\n",
    "for i, temps in enumerate(temps_unique): #loop through the list temps_unique, executing everything for each item\n",
    "    # i is the number of the item\n",
    "    # temps is the value of the item\n",
    "    df = data_depth.loc[data_depth[\"time\"]==temps] # pour sélectionner 1 seul pas de temps\n",
    "\n",
    "    color = cmap(i/N) # saturation des couleurs après 10 pas de temps (on aurait pu utiliser N, mais ça rend moins bien)\n",
    "    ax.plot(df[\"temperature\"], df[\"depth\"], c=color)\n",
    "\n",
    "\n",
    "plt.gca().invert_yaxis()\n",
    "ax.set_ylabel(\"Profondeur\")\n",
    "ax.set_xlabel(\"Température potentielle\")\n",
    "ax.set_title(\"Profils moyens de température\")\n",
    "\n",
    "#plt.savefig(\"profils_moyens.pdf\")  # pour sauver la figure au format pdf"
   ]
  }
 ],
 "metadata": {
  "kernelspec": {
   "display_name": "Python 3",
   "language": "python",
   "name": "python3"
  },
  "language_info": {
   "codemirror_mode": {
    "name": "ipython",
    "version": 3
   },
   "file_extension": ".py",
   "mimetype": "text/x-python",
   "name": "python",
   "nbconvert_exporter": "python",
   "pygments_lexer": "ipython3",
   "version": "3.6.6"
  }
 },
 "nbformat": 4,
 "nbformat_minor": 2
}
